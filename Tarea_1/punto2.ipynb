{
 "cells": [
  {
   "cell_type": "code",
   "execution_count": 446,
   "metadata": {},
   "outputs": [],
   "source": [
    "import numpy as np\n",
    "import matplotlib.pyplot as plt\n",
    "import matplotlib.animation as anim\n",
    "from tqdm import tqdm"
   ]
  },
  {
   "cell_type": "code",
   "execution_count": 447,
   "metadata": {},
   "outputs": [],
   "source": [
    "class Particle:\n",
    "    \n",
    "    def __init__(self, r0, v0, a0, t, m=1, radius=2., Id=0):\n",
    "        \n",
    "        self.dt = t[1] - t[0]\n",
    "        \n",
    "        \n",
    "        # Inicializar una partícula\n",
    "        self.r = r0\n",
    "        self.v = v0\n",
    "        self.a = a0 \n",
    "\n",
    "        self.m = m\n",
    "        self.radius = radius\n",
    "        self.Id = Id\n",
    "\n",
    "        self.p = self.m*self.v\n",
    "        self.lz= np.cross(self.r,self.p)\n",
    "        self.f = self.m*self.a\n",
    "        self.ek= 0.5*self.m*np.dot(self.v,self.v)\n",
    "   \n",
    "                          \n",
    "        \n",
    "        # Guardar el historial\n",
    "        \n",
    "        self.R = np.zeros((len(t),len(r0)))\n",
    "        self.V = np.zeros_like(self.R)\n",
    "        self.A = np.zeros_like(self.R)\n",
    "\n",
    "        self.F = np.zeros_like(self.R)\n",
    "        self.P = np.zeros_like(self.R)\n",
    "        self.Lz=  np.zeros(len(t))\n",
    "\n",
    "\n",
    "        #coeficiente de compresibilidad\n",
    "        self.K = 20.\n",
    "        \n",
    "        #Energía cinética\n",
    "        self.VEk = np.zeros(len(t))\n",
    "        self.Ep = 0.\n",
    "        self.Up= np.zeros(len(t))\n",
    "        \n",
    "    def Evolution(self,i):\n",
    "        \n",
    "        #vEolucionar es actualizar la posición, la velocidad y la aceleración\n",
    "\n",
    "        #TODO:quí utilizamos el método de Euler-Cromer \n",
    "        self.SetPosition(i)\n",
    "        self.SetVelocity(i)\n",
    "        \n",
    "        self.a = self.f/self.m\n",
    "        \n",
    "        # Euler\n",
    "  #      self.r += self.dt*self.v\n",
    "  #      self.v += self.dt*self.a\n",
    "\n",
    "        self.SetPotentialEnergy(i)\n",
    "        \n",
    "        # Euler-Cromer\n",
    "        self.v += self.dt*self.a\n",
    "        self.r += self.dt*self.v\n",
    "        self.p = self.m*self.v\n",
    "        self.lz = np.cross(self.r,self.p)\n",
    "        self.ek = 0.5*self.m*np.dot(self.v,self.v)\n",
    "\n",
    "        \n",
    "        \n",
    "    def CalculateForce(self,p):\n",
    "\n",
    "\n",
    "        #TODO: Aqui se calcula la fuerza y la energía potencial \n",
    "        \n",
    "        d = np.linalg.norm(self.r - p.r)\n",
    "        \n",
    "        compresion = self.radius + p.radius - d\n",
    "        \n",
    "        if compresion >= 0:\n",
    "\n",
    "                \n",
    "            Fn = self.K * compresion**3\n",
    "            Up= (self.K * compresion**4)/4\n",
    "            \n",
    "            self.n = (self.r - p.r)/d     \n",
    "            self.f = np.add(self.f,Fn*self.n)\n",
    "            self.Ep += Up\n",
    "           \n",
    "            \n",
    "     \n",
    "    def ResetForce(self):\n",
    "        self.f[:] = 0.\n",
    "        self.a[:] = 0.\n",
    "        self.Ep = 0.\n",
    "\n",
    "        #Reiniciar la dinámica del sistema se ponen en 0´s la fuerza y la aceleración\n",
    "    \n",
    "    #TODO: Setter (Se guarda el historial)\n",
    "    def SetPosition(self,i):\n",
    "        self.R[i] = self.r\n",
    "    \n",
    "    def SetVelocity(self,i):\n",
    "        self.V[i] = self.v\n",
    "        self.P[i] = self.m*self.v\n",
    "        self.VEk[i] = 0.5*self.m*np.dot(self.v,self.v)\n",
    "        self.Lz[i]= np.cross(self.r,(self.m*self.v))\n",
    "         \n",
    " \n",
    "\n",
    "    def SetPotentialEnergy(self,i):\n",
    "        self.Up[i] = self.Ep\n",
    "    \n",
    "    # TODO: Getter (Obtenemos las variables de interés con el paso deseado)\n",
    "    def GetPosition(self,scale=1):\n",
    "        return self.R[::scale]\n",
    "    \n",
    "    def GetVelocity(self,scale=1):\n",
    "        return self.V[::scale]\n",
    " \n",
    "    def GetMomentum(self,scale=1):\n",
    "                return self.P[::scale]\n",
    "\n",
    "    def GetAngularMomentum(self,scale=1):\n",
    "                return self.Lz[::scale]\n",
    "    \n",
    "    def GetKineticEnergy(self,scale=1):\n",
    "        return self.VEk[::scale] \n",
    "\n",
    "    def GetPotentialEnergy(self,scale=1):\n",
    "        return self.Up[::scale] \n",
    "    \n",
    "    # TODO: Debes agregar las paredes en este punto\n",
    "    def CheckLimits(self):\n",
    "        \n",
    "        for i in range(2):\n",
    "            \n",
    "            if self.r[i] + self.radius > 20 and self.v[i] > 0.:\n",
    "                self.v[i] = -self.v[i]\n",
    "            elif self.r[i] - self.radius < -20 and self.v[i] < 0.:\n",
    "                self.v[i] = -self.v[i]"
   ]
  },
  {
   "cell_type": "code",
   "execution_count": 448,
   "metadata": {},
   "outputs": [],
   "source": [
    "\n",
    "#TODO: Aqui se crean las particulas \n",
    "def GetParticles(N,t):\n",
    "\n",
    "    Particles=[]\n",
    "\n",
    "    for i in range(N):\n",
    "        r = np.random.uniform(-20, 20, size=(2,))\n",
    "        v = np.random.uniform(-5, 5, size=(2,))\n",
    "        a = np.array([0.,0.])\n",
    "        p = Particle(r,v,a,t,m=1,radius=2,Id=0)\n",
    "        \n",
    "\n",
    "        Particles.append(p)   \n",
    "    return Particles"
   ]
  },
  {
   "cell_type": "code",
   "execution_count": 449,
   "metadata": {},
   "outputs": [],
   "source": [
    "dt = 0.001\n",
    "tmax = 10\n",
    "t = np.arange(0,tmax,dt)\n",
    "Particles = GetParticles(10,t)"
   ]
  },
  {
   "cell_type": "code",
   "execution_count": 450,
   "metadata": {},
   "outputs": [],
   "source": [
    "def RunSimulation(t,Particles):\n",
    "    \n",
    "    for it in tqdm(range(len(t)), desc='Running simulation', unit=' Steps' ):\n",
    "        \n",
    "        for i in range(len(Particles)):\n",
    "            for j in range(len(Particles)):\n",
    "                if i!=j:\n",
    "                    Particles[i].CalculateForce(Particles[j])\n",
    "        \n",
    "        for i in range(len(Particles)):\n",
    "            Particles[i].Evolution(it)\n",
    "            Particles[i].ResetForce()\n",
    "        \n",
    "            \n",
    "    return Particles\n",
    "\n"
   ]
  },
  {
   "cell_type": "code",
   "execution_count": 451,
   "metadata": {},
   "outputs": [
    {
     "name": "stderr",
     "output_type": "stream",
     "text": [
      "Running simulation: 100%|██████████| 10000/10000 [00:49<00:00, 202.78 Steps/s]\n"
     ]
    }
   ],
   "source": [
    "Particles = RunSimulation(t,Particles)"
   ]
  },
  {
   "cell_type": "code",
   "execution_count": 452,
   "metadata": {},
   "outputs": [],
   "source": [
    "scale = 200\n",
    "t1 = t[::scale]"
   ]
  },
  {
   "cell_type": "code",
   "execution_count": 453,
   "metadata": {},
   "outputs": [
    {
     "data": {
      "image/png": "[encoded data removed]",
      "text/plain": [
       "<Figure size 1000x500 with 2 Axes>"
      ]
     },
     "metadata": {},
     "output_type": "display_data"
    }
   ],
   "source": [
    "fig = plt.figure(figsize=(10,5))\n",
    "ax = fig.add_subplot(121)\n",
    "ax1 = fig.add_subplot(122)\n",
    "\n",
    "def init():\n",
    "    \n",
    "    ax.clear()\n",
    "    ax.set_xlim(-20,20)\n",
    "    ax.set_ylim(-20,20)\n",
    "    \n",
    "def Update(i):\n",
    "    \n",
    "    init()\n",
    "    ax.set_title(r't =  %.3f s' %(t1[i]))\n",
    "    \n",
    "    \n",
    "    # Queremos calcular la energía total de cinética\n",
    "    KE = 0. # Kinetic energy\n",
    "    \n",
    "    for j, p in enumerate(Particles):\n",
    "        \n",
    "        x = p.GetPosition(scale)[i,0]\n",
    "        y = p.GetPosition(scale)[i,1]\n",
    "        \n",
    "        vx = p.GetVelocity(scale)[i,0]\n",
    "        vy = p.GetVelocity(scale)[i,1]\n",
    "        \n",
    "        circle = plt.Circle( (x,y), p.radius, color='r', fill=True )\n",
    "        ax.add_patch(circle)\n",
    "        \n",
    "       # ax.arrow(x,y,vx,vy,color='k',head_width=0.5,length_includes_head=True)\n",
    "        \n",
    "        KE += p.GetKineticEnergy(scale)[i]\n",
    "        \n",
    "        ax1.set_title(r'Total kinetic Energy: {:.3f}'.format(KE))\n",
    "        ax1.scatter(t1[:i], p.GetKineticEnergy(scale)[:i],color='k',marker='.')\n",
    "        \n",
    "Animation = anim.FuncAnimation(fig,Update,frames=len(t1),init_func=init)"
   ]
  },
  {
   "cell_type": "code",
   "execution_count": 454,
   "metadata": {},
   "outputs": [
    {
     "ename": "RuntimeError",
     "evalue": "Requested MovieWriter (ffmpeg) not available",
     "output_type": "error",
     "traceback": [
      "\u001b[1;31m---------------------------------------------------------------------------\u001b[0m",
      "\u001b[1;31mRuntimeError\u001b[0m                              Traceback (most recent call last)",
      "Cell \u001b[1;32mIn[454], line 1\u001b[0m\n\u001b[1;32m----> 1\u001b[0m Writer \u001b[38;5;241m=\u001b[39m \u001b[43manim\u001b[49m\u001b[38;5;241;43m.\u001b[39;49m\u001b[43mwriters\u001b[49m\u001b[43m[\u001b[49m\u001b[38;5;124;43m'\u001b[39;49m\u001b[38;5;124;43mffmpeg\u001b[39;49m\u001b[38;5;124;43m'\u001b[39;49m\u001b[43m]\u001b[49m\n\u001b[0;32m      2\u001b[0m writer_ \u001b[38;5;241m=\u001b[39m Writer(fps\u001b[38;5;241m=\u001b[39m\u001b[38;5;241m10\u001b[39m, metadata\u001b[38;5;241m=\u001b[39m\u001b[38;5;28mdict\u001b[39m(artist\u001b[38;5;241m=\u001b[39m\u001b[38;5;124m'\u001b[39m\u001b[38;5;124mMe\u001b[39m\u001b[38;5;124m'\u001b[39m))\n\u001b[0;32m      3\u001b[0m \u001b[38;5;66;03m#Animation.save('EsferaDura.mp4', writer=writer_)\u001b[39;00m\n",
      "File \u001b[1;32mc:\\Users\\Angie\\AppData\\Local\\Programs\\Python\\Python311\\Lib\\site-packages\\matplotlib\\animation.py:148\u001b[0m, in \u001b[0;36mMovieWriterRegistry.__getitem__\u001b[1;34m(self, name)\u001b[0m\n\u001b[0;32m    146\u001b[0m \u001b[38;5;28;01mif\u001b[39;00m \u001b[38;5;28mself\u001b[39m\u001b[38;5;241m.\u001b[39mis_available(name):\n\u001b[0;32m    147\u001b[0m     \u001b[38;5;28;01mreturn\u001b[39;00m \u001b[38;5;28mself\u001b[39m\u001b[38;5;241m.\u001b[39m_registered[name]\n\u001b[1;32m--> 148\u001b[0m \u001b[38;5;28;01mraise\u001b[39;00m \u001b[38;5;167;01mRuntimeError\u001b[39;00m(\u001b[38;5;124mf\u001b[39m\u001b[38;5;124m\"\u001b[39m\u001b[38;5;124mRequested MovieWriter (\u001b[39m\u001b[38;5;132;01m{\u001b[39;00mname\u001b[38;5;132;01m}\u001b[39;00m\u001b[38;5;124m) not available\u001b[39m\u001b[38;5;124m\"\u001b[39m)\n",
      "\u001b[1;31mRuntimeError\u001b[0m: Requested MovieWriter (ffmpeg) not available"
     ]
    }
   ],
   "source": [
    "Writer = anim.writers['ffmpeg']\n",
    "writer_ = Writer(fps=10, metadata=dict(artist='Me'))\n",
    "#Animation.save('EsferaDura.mp4', writer=writer_)"
   ]
  },
  {
   "cell_type": "code",
   "execution_count": 455,
   "metadata": {},
   "outputs": [],
   "source": [
    "MomentumT = Particles[0].GetMomentum(scale)\n",
    "\n",
    "AngularMomentumT = Particles[0].GetAngularMomentum(scale)\n",
    "\n",
    "EnergyT = Particles[0].GetKineticEnergy(scale)\n",
    "\n",
    "EnergyP = Particles[0].GetPotentialEnergy(scale)\n"
   ]
  },
  {
   "cell_type": "code",
   "execution_count": 456,
   "metadata": {},
   "outputs": [],
   "source": [
    "EnergyP *=0.5"
   ]
  },
  {
   "cell_type": "code",
   "execution_count": 457,
   "metadata": {},
   "outputs": [],
   "source": [
    "for i in range(1,len(Particles)):\n",
    "    MomentumT = np.add(MomentumT,Particles[i].GetMomentum(scale))\n",
    "    AngularMomentumT = np.add(AngularMomentumT,Particles[i].GetAngularMomentum(scale))\n",
    "    EnergyT = np.add(EnergyT,Particles[i].GetKineticEnergy(scale))\n",
    "    EnergyP = np.add(EnergyP,Particles[i].GetPotentialEnergy(scale))"
   ]
  },
  {
   "cell_type": "code",
   "execution_count": 458,
   "metadata": {},
   "outputs": [
    {
     "data": {
      "image/png": "[encoded data removed]",
      "text/plain": [
       "<Figure size 1000x500 with 3 Axes>"
      ]
     },
     "metadata": {},
     "output_type": "display_data"
    }
   ],
   "source": [
    "fig3 = plt.figure(figsize=(10,5))\n",
    "ax3 = fig3.add_subplot(231)\n",
    "ax4 = fig3.add_subplot(232)\n",
    "ax5 = fig3.add_subplot(233)\n",
    "\n",
    "ax3.plot(t1,MomentumT[:,0],label='px')\n",
    "ax3.plot(t1,MomentumT[:,1],label='py')\n",
    "ax4.plot(t1,AngularMomentumT,label='Lz')\n",
    "ax5.plot(t1,EnergyT,label='Kinetic')\n",
    "ax5.plot(t1,EnergyP,label='Potential')\n",
    "ax5.plot(t1,EnergyT+0.5*EnergyP,label='Total')\n",
    "ax3.legend()\n",
    "ax4.legend()\n",
    "ax5.legend()\n",
    "\n",
    "plt.show()"
   ]
  }
 ],
 "metadata": {
  "kernelspec": {
   "display_name": "Python 3",
   "language": "python",
   "name": "python3"
  },
  "language_info": {
   "codemirror_mode": {
    "name": "ipython",
    "version": 3
   },
   "file_extension": ".py",
   "mimetype": "text/x-python",
   "name": "python",
   "nbconvert_exporter": "python",
   "pygments_lexer": "ipython3",
   "version": "3.11.5"
  }
 },
 "nbformat": 4,
 "nbformat_minor": 2
}
