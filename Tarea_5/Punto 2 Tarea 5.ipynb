{
 "cells": [
  {
   "cell_type": "code",
   "execution_count": 40,
   "id": "414ffab2",
   "metadata": {},
   "outputs": [],
   "source": [
    "%matplotlib notebook\n",
    "import numpy as np\n",
    "import matplotlib.pyplot as plt\n",
    "from mpl_toolkits.mplot3d import axes3d\n",
    "import matplotlib as mpl\n",
    "import matplotlib.animation as animation\n",
    "from tqdm import tqdm"
   ]
  },
  {
   "cell_type": "code",
   "execution_count": 41,
   "id": "9ba826e0",
   "metadata": {},
   "outputs": [
    {
     "name": "stdout",
     "output_type": "stream",
     "text": [
      "2.4999999999999996 2.4999999999999996\n"
     ]
    }
   ],
   "source": [
    "Nt = 11\n",
    "Nx = 6\n",
    "Ny = 6\n",
    "\n",
    "x = np.linspace(0,1,Nx)\n",
    "y = np.linspace(0,1,Nx)\n",
    "t = np.linspace(0,1,Nt)\n",
    "\n",
    "deltax = x[1] - x[0]\n",
    "deltay = y[1] - y[0]\n",
    "deltat = t[1] - t[0]\n",
    "\n",
    "k = 1\n",
    "\n",
    "lambda_ = (k*deltat)/deltax**2\n",
    "mu_ = (k*deltat)/deltay**2\n",
    "\n",
    "print(lambda_,mu_)"
   ]
  },
  {
   "cell_type": "code",
   "execution_count": 42,
   "id": "096cc9d2",
   "metadata": {},
   "outputs": [],
   "source": [
    "def Ti(x,y):\n",
    "    return np.sin(np.pi*(x+y))"
   ]
  },
  {
   "cell_type": "code",
   "execution_count": null,
   "id": "d48beb78",
   "metadata": {},
   "outputs": [],
   "source": []
  },
  {
   "cell_type": "code",
   "execution_count": 43,
   "id": "b22c662e",
   "metadata": {},
   "outputs": [],
   "source": [
    "def InitT():\n",
    "    \n",
    "    T = np.zeros((Nt,Nx,Ny))\n",
    "    \n",
    "    T[0,:,:] = Ti(x,y)\n",
    "    \n",
    "    return T"
   ]
  },
  {
   "cell_type": "code",
   "execution_count": 44,
   "id": "686b70b3",
   "metadata": {},
   "outputs": [],
   "source": [
    "def condiciones_frontera_1(t):\n",
    "    return np.e**(-2*np.pi**2*t)*np.sin(np.pi*y)\n",
    "def condiciones_frontera_2(t):\n",
    "    return np.e**(-2*np.pi**2*t)*np.sin(np.pi*x)\n",
    "def condiciones_frontera_3(t):\n",
    "    return np.e**(-2*np.pi**2*t)*np.sin(np.pi*(1+y))\n",
    "def condiciones_frontera_4(t):\n",
    "    return np.e**(-2*np.pi**2*t)*np.sin(np.pi*(1+y))"
   ]
  },
  {
   "cell_type": "code",
   "execution_count": 45,
   "id": "e996c805",
   "metadata": {},
   "outputs": [],
   "source": [
    "T = InitT()\n"
   ]
  },
  {
   "cell_type": "code",
   "execution_count": 46,
   "id": "df40bf5f",
   "metadata": {},
   "outputs": [],
   "source": [
    "def GetSolution():\n",
    "    \n",
    "    for l in tqdm(range(1,len(t))):\n",
    "        \n",
    "        #T[l,0,:] = np.sin(20*t[l])\n",
    "        T[l,0,:] = condiciones_frontera_1(l)\n",
    "        T[l,:,0] = condiciones_frontera_2(l)\n",
    "        T[l,-1,:] = condiciones_frontera_3(l)\n",
    "        T[l,:,-1] = condiciones_frontera_4(l)\n",
    "        for i in range(1,len(x)-1):\n",
    "            for j in range(1,len(y)-1):\n",
    "                T[l,i,j] = (1-2*lambda_-2*mu_)*T[l-1,i,j] + \\\n",
    "                lambda_*(T[l-1,i+1,j] + T[l-1,i-1,j]) + \\\n",
    "                mu_*(T[l-1,i,j+1] + T[l-1,i,j-1])\n",
    "                "
   ]
  },
  {
   "cell_type": "code",
   "execution_count": 47,
   "id": "c7d626f6",
   "metadata": {},
   "outputs": [
    {
     "name": "stderr",
     "output_type": "stream",
     "text": [
      "100%|██████████| 10/10 [00:00<00:00, 10017.44it/s]\n"
     ]
    }
   ],
   "source": [
    "GetSolution()"
   ]
  },
  {
   "cell_type": "code",
   "execution_count": 49,
   "id": "7f7bd9ad",
   "metadata": {},
   "outputs": [
    {
     "ename": "AttributeError",
     "evalue": "module 'matplotlib.cbook' has no attribute '_Stack'",
     "output_type": "error",
     "traceback": [
      "\u001b[1;31m---------------------------------------------------------------------------\u001b[0m",
      "\u001b[1;31mAttributeError\u001b[0m                            Traceback (most recent call last)",
      "Cell \u001b[1;32mIn[49], line 1\u001b[0m\n\u001b[1;32m----> 1\u001b[0m fig \u001b[38;5;241m=\u001b[39m \u001b[43mplt\u001b[49m\u001b[38;5;241;43m.\u001b[39;49m\u001b[43mfigure\u001b[49m\u001b[43m(\u001b[49m\u001b[43mfigsize\u001b[49m\u001b[38;5;241;43m=\u001b[39;49m\u001b[43m(\u001b[49m\u001b[38;5;241;43m5\u001b[39;49m\u001b[43m,\u001b[49m\u001b[38;5;241;43m6\u001b[39;49m\u001b[43m)\u001b[49m\u001b[43m)\u001b[49m\n\u001b[0;32m      2\u001b[0m ax \u001b[38;5;241m=\u001b[39m fig\u001b[38;5;241m.\u001b[39madd_subplot(\u001b[38;5;241m111\u001b[39m, projection\u001b[38;5;241m=\u001b[39m\u001b[38;5;124m'\u001b[39m\u001b[38;5;124m3d\u001b[39m\u001b[38;5;124m'\u001b[39m)\n\u001b[0;32m      4\u001b[0m X,Y \u001b[38;5;241m=\u001b[39m np\u001b[38;5;241m.\u001b[39mmeshgrid(x,y)\n",
      "File \u001b[1;32m~\\AppData\\Local\\Packages\\PythonSoftwareFoundation.Python.3.10_qbz5n2kfra8p0\\LocalCache\\local-packages\\Python310\\site-packages\\matplotlib\\pyplot.py:934\u001b[0m, in \u001b[0;36mfigure\u001b[1;34m(num, figsize, dpi, facecolor, edgecolor, frameon, FigureClass, clear, **kwargs)\u001b[0m\n\u001b[0;32m    924\u001b[0m \u001b[38;5;28;01mif\u001b[39;00m \u001b[38;5;28mlen\u001b[39m(allnums) \u001b[38;5;241m==\u001b[39m max_open_warning \u001b[38;5;241m>\u001b[39m\u001b[38;5;241m=\u001b[39m \u001b[38;5;241m1\u001b[39m:\n\u001b[0;32m    925\u001b[0m     _api\u001b[38;5;241m.\u001b[39mwarn_external(\n\u001b[0;32m    926\u001b[0m         \u001b[38;5;124mf\u001b[39m\u001b[38;5;124m\"\u001b[39m\u001b[38;5;124mMore than \u001b[39m\u001b[38;5;132;01m{\u001b[39;00mmax_open_warning\u001b[38;5;132;01m}\u001b[39;00m\u001b[38;5;124m figures have been opened. \u001b[39m\u001b[38;5;124m\"\u001b[39m\n\u001b[0;32m    927\u001b[0m         \u001b[38;5;124mf\u001b[39m\u001b[38;5;124m\"\u001b[39m\u001b[38;5;124mFigures created through the pyplot interface \u001b[39m\u001b[38;5;124m\"\u001b[39m\n\u001b[1;32m   (...)\u001b[0m\n\u001b[0;32m    931\u001b[0m         \u001b[38;5;124mf\u001b[39m\u001b[38;5;124m\"\u001b[39m\u001b[38;5;124mConsider using `matplotlib.pyplot.close()`.\u001b[39m\u001b[38;5;124m\"\u001b[39m,\n\u001b[0;32m    932\u001b[0m         \u001b[38;5;167;01mRuntimeWarning\u001b[39;00m)\n\u001b[1;32m--> 934\u001b[0m manager \u001b[38;5;241m=\u001b[39m new_figure_manager(\n\u001b[0;32m    935\u001b[0m     num, figsize\u001b[38;5;241m=\u001b[39mfigsize, dpi\u001b[38;5;241m=\u001b[39mdpi,\n\u001b[0;32m    936\u001b[0m     facecolor\u001b[38;5;241m=\u001b[39mfacecolor, edgecolor\u001b[38;5;241m=\u001b[39medgecolor, frameon\u001b[38;5;241m=\u001b[39mframeon,\n\u001b[0;32m    937\u001b[0m     FigureClass\u001b[38;5;241m=\u001b[39mFigureClass, \u001b[38;5;241m*\u001b[39m\u001b[38;5;241m*\u001b[39mkwargs)\n\u001b[0;32m    938\u001b[0m fig \u001b[38;5;241m=\u001b[39m manager\u001b[38;5;241m.\u001b[39mcanvas\u001b[38;5;241m.\u001b[39mfigure\n\u001b[0;32m    939\u001b[0m \u001b[38;5;28;01mif\u001b[39;00m fig_label:\n",
      "File \u001b[1;32m~\\AppData\\Local\\Packages\\PythonSoftwareFoundation.Python.3.10_qbz5n2kfra8p0\\LocalCache\\local-packages\\Python310\\site-packages\\matplotlib\\pyplot.py:465\u001b[0m, in \u001b[0;36mnew_figure_manager\u001b[1;34m(*args, **kwargs)\u001b[0m\n\u001b[0;32m    463\u001b[0m \u001b[38;5;250m\u001b[39m\u001b[38;5;124;03m\"\"\"Create a new figure manager instance.\"\"\"\u001b[39;00m\n\u001b[0;32m    464\u001b[0m _warn_if_gui_out_of_main_thread()\n\u001b[1;32m--> 465\u001b[0m \u001b[38;5;28;01mreturn\u001b[39;00m _get_backend_mod()\u001b[38;5;241m.\u001b[39mnew_figure_manager(\u001b[38;5;241m*\u001b[39margs, \u001b[38;5;241m*\u001b[39m\u001b[38;5;241m*\u001b[39mkwargs)\n",
      "File \u001b[1;32m~\\AppData\\Local\\Packages\\PythonSoftwareFoundation.Python.3.10_qbz5n2kfra8p0\\LocalCache\\local-packages\\Python310\\site-packages\\matplotlib\\backend_bases.py:3411\u001b[0m, in \u001b[0;36m_Backend.new_figure_manager\u001b[1;34m(cls, num, *args, **kwargs)\u001b[0m\n\u001b[0;32m   3409\u001b[0m fig_cls \u001b[38;5;241m=\u001b[39m kwargs\u001b[38;5;241m.\u001b[39mpop(\u001b[38;5;124m'\u001b[39m\u001b[38;5;124mFigureClass\u001b[39m\u001b[38;5;124m'\u001b[39m, Figure)\n\u001b[0;32m   3410\u001b[0m fig \u001b[38;5;241m=\u001b[39m fig_cls(\u001b[38;5;241m*\u001b[39margs, \u001b[38;5;241m*\u001b[39m\u001b[38;5;241m*\u001b[39mkwargs)\n\u001b[1;32m-> 3411\u001b[0m \u001b[38;5;28;01mreturn\u001b[39;00m \u001b[38;5;28;43mcls\u001b[39;49m\u001b[38;5;241;43m.\u001b[39;49m\u001b[43mnew_figure_manager_given_figure\u001b[49m\u001b[43m(\u001b[49m\u001b[43mnum\u001b[49m\u001b[43m,\u001b[49m\u001b[43m \u001b[49m\u001b[43mfig\u001b[49m\u001b[43m)\u001b[49m\n",
      "File \u001b[1;32m~\\AppData\\Local\\Packages\\PythonSoftwareFoundation.Python.3.10_qbz5n2kfra8p0\\LocalCache\\local-packages\\Python310\\site-packages\\matplotlib\\backend_bases.py:3416\u001b[0m, in \u001b[0;36m_Backend.new_figure_manager_given_figure\u001b[1;34m(cls, num, figure)\u001b[0m\n\u001b[0;32m   3413\u001b[0m \u001b[38;5;129m@classmethod\u001b[39m\n\u001b[0;32m   3414\u001b[0m \u001b[38;5;28;01mdef\u001b[39;00m \u001b[38;5;21mnew_figure_manager_given_figure\u001b[39m(\u001b[38;5;28mcls\u001b[39m, num, figure):\n\u001b[0;32m   3415\u001b[0m \u001b[38;5;250m    \u001b[39m\u001b[38;5;124;03m\"\"\"Create a new figure manager instance for the given figure.\"\"\"\u001b[39;00m\n\u001b[1;32m-> 3416\u001b[0m     \u001b[38;5;28;01mreturn\u001b[39;00m \u001b[38;5;28;43mcls\u001b[39;49m\u001b[38;5;241;43m.\u001b[39;49m\u001b[43mFigureCanvas\u001b[49m\u001b[38;5;241;43m.\u001b[39;49m\u001b[43mnew_manager\u001b[49m\u001b[43m(\u001b[49m\u001b[43mfigure\u001b[49m\u001b[43m,\u001b[49m\u001b[43m \u001b[49m\u001b[43mnum\u001b[49m\u001b[43m)\u001b[49m\n",
      "File \u001b[1;32m~\\AppData\\Local\\Packages\\PythonSoftwareFoundation.Python.3.10_qbz5n2kfra8p0\\LocalCache\\local-packages\\Python310\\site-packages\\matplotlib\\backend_bases.py:1785\u001b[0m, in \u001b[0;36mFigureCanvasBase.new_manager\u001b[1;34m(cls, figure, num)\u001b[0m\n\u001b[0;32m   1774\u001b[0m \u001b[38;5;129m@classmethod\u001b[39m\n\u001b[0;32m   1775\u001b[0m \u001b[38;5;28;01mdef\u001b[39;00m \u001b[38;5;21mnew_manager\u001b[39m(\u001b[38;5;28mcls\u001b[39m, figure, num):\n\u001b[0;32m   1776\u001b[0m \u001b[38;5;250m    \u001b[39m\u001b[38;5;124;03m\"\"\"\u001b[39;00m\n\u001b[0;32m   1777\u001b[0m \u001b[38;5;124;03m    Create a new figure manager for *figure*, using this canvas class.\u001b[39;00m\n\u001b[0;32m   1778\u001b[0m \n\u001b[1;32m   (...)\u001b[0m\n\u001b[0;32m   1783\u001b[0m \u001b[38;5;124;03m    ``FigureManager.create_with_canvas``.\u001b[39;00m\n\u001b[0;32m   1784\u001b[0m \u001b[38;5;124;03m    \"\"\"\u001b[39;00m\n\u001b[1;32m-> 1785\u001b[0m     \u001b[38;5;28;01mreturn\u001b[39;00m \u001b[38;5;28;43mcls\u001b[39;49m\u001b[38;5;241;43m.\u001b[39;49m\u001b[43mmanager_class\u001b[49m\u001b[38;5;241;43m.\u001b[39;49m\u001b[43mcreate_with_canvas\u001b[49m\u001b[43m(\u001b[49m\u001b[38;5;28;43mcls\u001b[39;49m\u001b[43m,\u001b[49m\u001b[43m \u001b[49m\u001b[43mfigure\u001b[49m\u001b[43m,\u001b[49m\u001b[43m \u001b[49m\u001b[43mnum\u001b[49m\u001b[43m)\u001b[49m\n",
      "File \u001b[1;32m~\\AppData\\Local\\Packages\\PythonSoftwareFoundation.Python.3.10_qbz5n2kfra8p0\\LocalCache\\local-packages\\Python310\\site-packages\\matplotlib\\backends\\backend_nbagg.py:74\u001b[0m, in \u001b[0;36mFigureManagerNbAgg.create_with_canvas\u001b[1;34m(cls, canvas_class, figure, num)\u001b[0m\n\u001b[0;32m     71\u001b[0m \u001b[38;5;129m@classmethod\u001b[39m\n\u001b[0;32m     72\u001b[0m \u001b[38;5;28;01mdef\u001b[39;00m \u001b[38;5;21mcreate_with_canvas\u001b[39m(\u001b[38;5;28mcls\u001b[39m, canvas_class, figure, num):\n\u001b[0;32m     73\u001b[0m     canvas \u001b[38;5;241m=\u001b[39m canvas_class(figure)\n\u001b[1;32m---> 74\u001b[0m     manager \u001b[38;5;241m=\u001b[39m \u001b[38;5;28;43mcls\u001b[39;49m\u001b[43m(\u001b[49m\u001b[43mcanvas\u001b[49m\u001b[43m,\u001b[49m\u001b[43m \u001b[49m\u001b[43mnum\u001b[49m\u001b[43m)\u001b[49m\n\u001b[0;32m     75\u001b[0m     \u001b[38;5;28;01mif\u001b[39;00m is_interactive():\n\u001b[0;32m     76\u001b[0m         manager\u001b[38;5;241m.\u001b[39mshow()\n",
      "File \u001b[1;32m~\\AppData\\Local\\Packages\\PythonSoftwareFoundation.Python.3.10_qbz5n2kfra8p0\\LocalCache\\local-packages\\Python310\\site-packages\\matplotlib\\backends\\backend_nbagg.py:69\u001b[0m, in \u001b[0;36mFigureManagerNbAgg.__init__\u001b[1;34m(self, canvas, num)\u001b[0m\n\u001b[0;32m     67\u001b[0m \u001b[38;5;28;01mdef\u001b[39;00m \u001b[38;5;21m__init__\u001b[39m(\u001b[38;5;28mself\u001b[39m, canvas, num):\n\u001b[0;32m     68\u001b[0m     \u001b[38;5;28mself\u001b[39m\u001b[38;5;241m.\u001b[39m_shown \u001b[38;5;241m=\u001b[39m \u001b[38;5;28;01mFalse\u001b[39;00m\n\u001b[1;32m---> 69\u001b[0m     \u001b[38;5;28;43msuper\u001b[39;49m\u001b[43m(\u001b[49m\u001b[43m)\u001b[49m\u001b[38;5;241;43m.\u001b[39;49m\u001b[38;5;21;43m__init__\u001b[39;49m\u001b[43m(\u001b[49m\u001b[43mcanvas\u001b[49m\u001b[43m,\u001b[49m\u001b[43m \u001b[49m\u001b[43mnum\u001b[49m\u001b[43m)\u001b[49m\n",
      "File \u001b[1;32m~\\AppData\\Local\\Packages\\PythonSoftwareFoundation.Python.3.10_qbz5n2kfra8p0\\LocalCache\\local-packages\\Python310\\site-packages\\matplotlib\\backends\\backend_webagg_core.py:432\u001b[0m, in \u001b[0;36mFigureManagerWebAgg.__init__\u001b[1;34m(self, canvas, num)\u001b[0m\n\u001b[0;32m    430\u001b[0m \u001b[38;5;28;01mdef\u001b[39;00m \u001b[38;5;21m__init__\u001b[39m(\u001b[38;5;28mself\u001b[39m, canvas, num):\n\u001b[0;32m    431\u001b[0m     \u001b[38;5;28mself\u001b[39m\u001b[38;5;241m.\u001b[39mweb_sockets \u001b[38;5;241m=\u001b[39m \u001b[38;5;28mset\u001b[39m()\n\u001b[1;32m--> 432\u001b[0m     \u001b[38;5;28;43msuper\u001b[39;49m\u001b[43m(\u001b[49m\u001b[43m)\u001b[49m\u001b[38;5;241;43m.\u001b[39;49m\u001b[38;5;21;43m__init__\u001b[39;49m\u001b[43m(\u001b[49m\u001b[43mcanvas\u001b[49m\u001b[43m,\u001b[49m\u001b[43m \u001b[49m\u001b[43mnum\u001b[49m\u001b[43m)\u001b[49m\n",
      "File \u001b[1;32m~\\AppData\\Local\\Packages\\PythonSoftwareFoundation.Python.3.10_qbz5n2kfra8p0\\LocalCache\\local-packages\\Python310\\site-packages\\matplotlib\\backend_bases.py:2664\u001b[0m, in \u001b[0;36mFigureManagerBase.__init__\u001b[1;34m(self, canvas, num)\u001b[0m\n\u001b[0;32m   2659\u001b[0m \u001b[38;5;28mself\u001b[39m\u001b[38;5;241m.\u001b[39mtoolmanager \u001b[38;5;241m=\u001b[39m (ToolManager(canvas\u001b[38;5;241m.\u001b[39mfigure)\n\u001b[0;32m   2660\u001b[0m                     \u001b[38;5;28;01mif\u001b[39;00m mpl\u001b[38;5;241m.\u001b[39mrcParams[\u001b[38;5;124m'\u001b[39m\u001b[38;5;124mtoolbar\u001b[39m\u001b[38;5;124m'\u001b[39m] \u001b[38;5;241m==\u001b[39m \u001b[38;5;124m'\u001b[39m\u001b[38;5;124mtoolmanager\u001b[39m\u001b[38;5;124m'\u001b[39m\n\u001b[0;32m   2661\u001b[0m                     \u001b[38;5;28;01melse\u001b[39;00m \u001b[38;5;28;01mNone\u001b[39;00m)\n\u001b[0;32m   2662\u001b[0m \u001b[38;5;28;01mif\u001b[39;00m (mpl\u001b[38;5;241m.\u001b[39mrcParams[\u001b[38;5;124m\"\u001b[39m\u001b[38;5;124mtoolbar\u001b[39m\u001b[38;5;124m\"\u001b[39m] \u001b[38;5;241m==\u001b[39m \u001b[38;5;124m\"\u001b[39m\u001b[38;5;124mtoolbar2\u001b[39m\u001b[38;5;124m\"\u001b[39m\n\u001b[0;32m   2663\u001b[0m         \u001b[38;5;129;01mand\u001b[39;00m \u001b[38;5;28mself\u001b[39m\u001b[38;5;241m.\u001b[39m_toolbar2_class):\n\u001b[1;32m-> 2664\u001b[0m     \u001b[38;5;28mself\u001b[39m\u001b[38;5;241m.\u001b[39mtoolbar \u001b[38;5;241m=\u001b[39m \u001b[38;5;28;43mself\u001b[39;49m\u001b[38;5;241;43m.\u001b[39;49m\u001b[43m_toolbar2_class\u001b[49m\u001b[43m(\u001b[49m\u001b[38;5;28;43mself\u001b[39;49m\u001b[38;5;241;43m.\u001b[39;49m\u001b[43mcanvas\u001b[49m\u001b[43m)\u001b[49m\n\u001b[0;32m   2665\u001b[0m \u001b[38;5;28;01melif\u001b[39;00m (mpl\u001b[38;5;241m.\u001b[39mrcParams[\u001b[38;5;124m\"\u001b[39m\u001b[38;5;124mtoolbar\u001b[39m\u001b[38;5;124m\"\u001b[39m] \u001b[38;5;241m==\u001b[39m \u001b[38;5;124m\"\u001b[39m\u001b[38;5;124mtoolmanager\u001b[39m\u001b[38;5;124m\"\u001b[39m\n\u001b[0;32m   2666\u001b[0m         \u001b[38;5;129;01mand\u001b[39;00m \u001b[38;5;28mself\u001b[39m\u001b[38;5;241m.\u001b[39m_toolmanager_toolbar_class):\n\u001b[0;32m   2667\u001b[0m     \u001b[38;5;28mself\u001b[39m\u001b[38;5;241m.\u001b[39mtoolbar \u001b[38;5;241m=\u001b[39m \u001b[38;5;28mself\u001b[39m\u001b[38;5;241m.\u001b[39m_toolmanager_toolbar_class(\u001b[38;5;28mself\u001b[39m\u001b[38;5;241m.\u001b[39mtoolmanager)\n",
      "File \u001b[1;32m~\\AppData\\Local\\Packages\\PythonSoftwareFoundation.Python.3.10_qbz5n2kfra8p0\\LocalCache\\local-packages\\Python310\\site-packages\\matplotlib\\backends\\backend_webagg_core.py:392\u001b[0m, in \u001b[0;36mNavigationToolbar2WebAgg.__init__\u001b[1;34m(self, canvas)\u001b[0m\n\u001b[0;32m    390\u001b[0m \u001b[38;5;28;01mdef\u001b[39;00m \u001b[38;5;21m__init__\u001b[39m(\u001b[38;5;28mself\u001b[39m, canvas):\n\u001b[0;32m    391\u001b[0m     \u001b[38;5;28mself\u001b[39m\u001b[38;5;241m.\u001b[39mmessage \u001b[38;5;241m=\u001b[39m \u001b[38;5;124m'\u001b[39m\u001b[38;5;124m'\u001b[39m\n\u001b[1;32m--> 392\u001b[0m     \u001b[38;5;28;43msuper\u001b[39;49m\u001b[43m(\u001b[49m\u001b[43m)\u001b[49m\u001b[38;5;241;43m.\u001b[39;49m\u001b[38;5;21;43m__init__\u001b[39;49m\u001b[43m(\u001b[49m\u001b[43mcanvas\u001b[49m\u001b[43m)\u001b[49m\n",
      "File \u001b[1;32m~\\AppData\\Local\\Packages\\PythonSoftwareFoundation.Python.3.10_qbz5n2kfra8p0\\LocalCache\\local-packages\\Python310\\site-packages\\matplotlib\\backend_bases.py:2859\u001b[0m, in \u001b[0;36mNavigationToolbar2.__init__\u001b[1;34m(self, canvas)\u001b[0m\n\u001b[0;32m   2857\u001b[0m \u001b[38;5;28mself\u001b[39m\u001b[38;5;241m.\u001b[39mcanvas \u001b[38;5;241m=\u001b[39m canvas\n\u001b[0;32m   2858\u001b[0m canvas\u001b[38;5;241m.\u001b[39mtoolbar \u001b[38;5;241m=\u001b[39m \u001b[38;5;28mself\u001b[39m\n\u001b[1;32m-> 2859\u001b[0m \u001b[38;5;28mself\u001b[39m\u001b[38;5;241m.\u001b[39m_nav_stack \u001b[38;5;241m=\u001b[39m \u001b[43mcbook\u001b[49m\u001b[38;5;241;43m.\u001b[39;49m\u001b[43m_Stack\u001b[49m()\n\u001b[0;32m   2860\u001b[0m \u001b[38;5;66;03m# This cursor will be set after the initial draw.\u001b[39;00m\n\u001b[0;32m   2861\u001b[0m \u001b[38;5;28mself\u001b[39m\u001b[38;5;241m.\u001b[39m_last_cursor \u001b[38;5;241m=\u001b[39m tools\u001b[38;5;241m.\u001b[39mCursors\u001b[38;5;241m.\u001b[39mPOINTER\n",
      "File \u001b[1;32m~\\AppData\\Local\\Packages\\PythonSoftwareFoundation.Python.3.10_qbz5n2kfra8p0\\LocalCache\\local-packages\\Python310\\site-packages\\matplotlib\\_api\\__init__.py:217\u001b[0m, in \u001b[0;36mcaching_module_getattr.<locals>.__getattr__\u001b[1;34m(name)\u001b[0m\n\u001b[0;32m    215\u001b[0m \u001b[38;5;28;01mif\u001b[39;00m name \u001b[38;5;129;01min\u001b[39;00m props:\n\u001b[0;32m    216\u001b[0m     \u001b[38;5;28;01mreturn\u001b[39;00m props[name]\u001b[38;5;241m.\u001b[39m\u001b[38;5;21m__get__\u001b[39m(instance)\n\u001b[1;32m--> 217\u001b[0m \u001b[38;5;28;01mraise\u001b[39;00m \u001b[38;5;167;01mAttributeError\u001b[39;00m(\n\u001b[0;32m    218\u001b[0m     \u001b[38;5;124mf\u001b[39m\u001b[38;5;124m\"\u001b[39m\u001b[38;5;124mmodule \u001b[39m\u001b[38;5;132;01m{\u001b[39;00m\u001b[38;5;28mcls\u001b[39m\u001b[38;5;241m.\u001b[39m\u001b[38;5;18m__module__\u001b[39m\u001b[38;5;132;01m!r}\u001b[39;00m\u001b[38;5;124m has no attribute \u001b[39m\u001b[38;5;132;01m{\u001b[39;00mname\u001b[38;5;132;01m!r}\u001b[39;00m\u001b[38;5;124m\"\u001b[39m)\n",
      "\u001b[1;31mAttributeError\u001b[0m: module 'matplotlib.cbook' has no attribute '_Stack'"
     ]
    }
   ],
   "source": [
    "fig = plt.figure(figsize=(5,6))\n",
    "ax = fig.add_subplot(111, projection='3d')\n",
    "\n",
    "X,Y = np.meshgrid(x,y)\n",
    "\n",
    "def init():\n",
    "    \n",
    "    \n",
    "    ax.set_xlim3d(0,2)\n",
    "    ax.set_ylim3d(0,2)\n",
    "    ax.set_zlim3d(0,10)\n",
    "\n",
    "def Update(i):\n",
    "\n",
    "    ax.clear()\n",
    "    init()\n",
    "    \n",
    "    ax.plot_surface(X,Y,T[i,:,:],cmap='viridis')\n",
    "    \n",
    "Animation = animation.FuncAnimation(fig,Update,frames=len(t),init_func=init)\n",
    "HTML(Animation.to_html5_video())"
   ]
  },
  {
   "cell_type": "code",
   "execution_count": null,
   "id": "058992bc",
   "metadata": {},
   "outputs": [],
   "source": []
  },
  {
   "cell_type": "code",
   "execution_count": null,
   "id": "ac53ce94",
   "metadata": {},
   "outputs": [],
   "source": []
  }
 ],
 "metadata": {
  "kernelspec": {
   "display_name": "Python 3 (ipykernel)",
   "language": "python",
   "name": "python3"
  },
  "language_info": {
   "codemirror_mode": {
    "name": "ipython",
    "version": 3
   },
   "file_extension": ".py",
   "mimetype": "text/x-python",
   "name": "python",
   "nbconvert_exporter": "python",
   "pygments_lexer": "ipython3",
   "version": "3.10.11"
  }
 },
 "nbformat": 4,
 "nbformat_minor": 5
}
