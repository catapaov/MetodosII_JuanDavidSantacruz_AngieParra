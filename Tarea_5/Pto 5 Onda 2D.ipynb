{
 "cells": [
  {
   "cell_type": "code",
   "execution_count": 15,
   "metadata": {},
   "outputs": [],
   "source": [
    "import numpy as np\n",
    "import matplotlib \n",
    "matplotlib.use('TkAgg')\n",
    "import matplotlib.pyplot as plt\n",
    "from mpl_toolkits.mplot3d import axes3d\n",
    "from matplotlib import cm\n",
    "import matplotlib as mpl\n",
    "import matplotlib.animation as animation\n",
    "from tqdm import tqdm"
   ]
  },
  {
   "cell_type": "code",
   "execution_count": 16,
   "metadata": {},
   "outputs": [],
   "source": [
    "Nt = 400\n",
    "Nx = 20\n",
    "Ny = 20\n",
    "\n",
    "x = np.linspace(0,2,Nx)\n",
    "y = np.linspace(0,2,Nx)\n",
    "t = np.linspace(0,3,Nt)\n",
    "\n",
    "deltax = x[1] - x[0]\n",
    "deltay = y[1] - y[0]\n",
    "deltat = t[1] - t[0]\n",
    "\n",
    "v = 2.\n",
    "\n",
    "lambda_ = v*deltat/deltax\n",
    "mu_ = 5*deltat/deltay\n",
    "\n"
   ]
  },
  {
   "cell_type": "code",
   "execution_count": 17,
   "metadata": {},
   "outputs": [],
   "source": [
    "def ui(x,y):\n",
    "    \n",
    "    return np.sin(np.pi*x)*np.sin(np.pi*y)"
   ]
  },
  {
   "cell_type": "code",
   "execution_count": 18,
   "metadata": {},
   "outputs": [],
   "source": [
    "u = np.zeros((Nt,Nx,Ny))\n",
    "for i in range(len(x)):\n",
    "    for j in range(len(y)):\n",
    "        u[0,i,j] = ui(x[i],y[j])"
   ]
  },
  {
   "cell_type": "code",
   "execution_count": 19,
   "metadata": {},
   "outputs": [],
   "source": [
    "def GetSolution():\n",
    "\n",
    "    \n",
    "    for l in tqdm(range(1,len(t))):\n",
    "        \n",
    "        if l == 1:\n",
    "            u[l,:,:] = u[l-1,:,:]\n",
    "        else:\n",
    "        \n",
    "            for i in range(1,len(x)-1):\n",
    "                for j in range(1,len(y)-1):\n",
    "                    u[l,i,j] = 2*(1-lambda_**2-mu_**2)*u[l-1,i,j] \\\n",
    "                    + lambda_**2*( u[l-1,i+1,j] + u[l-1,i-1,j] ) \\\n",
    "                    + mu_**2*( u[l-1,i,j+1] + u[l-1,i,j-1] ) \\\n",
    "                    - u[l-2,i,j] "
   ]
  },
  {
   "cell_type": "code",
   "execution_count": 20,
   "metadata": {},
   "outputs": [
    {
     "name": "stderr",
     "output_type": "stream",
     "text": [
      "100%|██████████| 399/399 [00:01<00:00, 301.57it/s]\n"
     ]
    }
   ],
   "source": [
    "GetSolution()"
   ]
  },
  {
   "cell_type": "code",
   "execution_count": 21,
   "metadata": {},
   "outputs": [],
   "source": [
    "fig = plt.figure(figsize=(5,6))\n",
    "ax = fig.add_subplot(111, projection='3d')\n",
    "\n",
    "X,Y = np.meshgrid(x,y)\n",
    "\n",
    "def init():\n",
    "    \n",
    "    \n",
    "    ax.set_xlim3d(0,2)\n",
    "    ax.set_ylim3d(0,2)\n",
    "    ax.set_zlim3d(-2,2)\n",
    "\n",
    "def Update(i):\n",
    "\n",
    "    ax.clear()\n",
    "    init()\n",
    "    \n",
    "    ax.plot_surface(X,Y,u[i,:,:],cmap='viridis')\n",
    "    \n",
    "Animation = animation.FuncAnimation(fig,Update,frames=len(t),init_func=init)\n",
    "plt.show()"
   ]
  }
 ],
 "metadata": {
  "kernelspec": {
   "display_name": "Python 3",
   "language": "python",
   "name": "python3"
  },
  "language_info": {
   "codemirror_mode": {
    "name": "ipython",
    "version": 3
   },
   "file_extension": ".py",
   "mimetype": "text/x-python",
   "name": "python",
   "nbconvert_exporter": "python",
   "pygments_lexer": "ipython3",
   "version": "3.12.0"
  }
 },
 "nbformat": 4,
 "nbformat_minor": 2
}
