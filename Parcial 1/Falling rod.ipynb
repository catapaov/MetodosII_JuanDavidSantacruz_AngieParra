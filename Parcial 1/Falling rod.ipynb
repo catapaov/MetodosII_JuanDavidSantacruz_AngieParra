{
 "cells": [
  {
   "cell_type": "code",
   "execution_count": 48,
   "metadata": {},
   "outputs": [],
   "source": [
    "import numpy as np \n",
    "import matplotlib.pyplot as plt"
   ]
  },
  {
   "cell_type": "code",
   "execution_count": 49,
   "metadata": {},
   "outputs": [],
   "source": [
    "def fatheta(g,L,theta_punto,theta):\n",
    "    return ((2*(g/L)-theta_punto**2*np.cos(theta))*np.sin(theta))/((1/3)+np.sin(theta)**2)   "
   ]
  },
  {
   "cell_type": "code",
   "execution_count": 50,
   "metadata": {},
   "outputs": [],
   "source": [
    "def ftheta_punto(theta):\n",
    "    return theta"
   ]
  },
  {
   "cell_type": "code",
   "execution_count": 51,
   "metadata": {},
   "outputs": [],
   "source": [
    "g = 9.81\n",
    "L = 1\n",
    "r0 = (10*np.pi/180,0)\n",
    "t = np.linspace(0,2.2,50)\n"
   ]
  },
  {
   "cell_type": "code",
   "execution_count": 52,
   "metadata": {},
   "outputs": [],
   "source": [
    "def GetEuler2System(t,r0,g,L):\n",
    "    \n",
    "    h = t[1] - t[0]\n",
    "    \n",
    "    theta = np.zeros_like(t)\n",
    "    theta_punto = np.zeros_like(t)\n",
    "    \n",
    "    \n",
    "    \n",
    "    # Initial condition\n",
    "    theta[0] = r0[0]\n",
    "    theta_punto[0] =r0[1]\n",
    "   \n",
    "    \n",
    "    \n",
    "    # Vectorizacion de las pendientes\n",
    "    K1 = np.zeros(2)\n",
    "    K2 = np.zeros(2)\n",
    "    \n",
    "    for i in range(1,len(t)):\n",
    "        \n",
    "        K1[0] = ftheta_punto(theta[i-1])\n",
    "        K1[1] = fatheta(g,L,theta_punto[i-1],theta[i-1])\n",
    "       \n",
    "        K2[0] = ftheta_punto(theta[i-1]+h*K1[0])\n",
    "        K2[1] = fatheta(g,L,theta_punto[i-1]+h*K1[1],theta[i-1]+h*K1[0])\n",
    "        \n",
    "        \n",
    "        theta[i] = theta[i-1] +h*(1/2)*(K1[0]+K2[0])\n",
    "        theta_punto[i] = theta_punto[i-1] +h*(1/2)*(K1[1]+K2[1])\n",
    "      \n",
    "       \n",
    "        \n",
    "    return theta,theta_punto"
   ]
  },
  {
   "cell_type": "code",
   "execution_count": 53,
   "metadata": {},
   "outputs": [],
   "source": [
    "psi, psipunto = GetEuler2System(t,r0,g,L)"
   ]
  },
  {
   "cell_type": "code",
   "execution_count": 54,
   "metadata": {},
   "outputs": [
    {
     "data": {
      "text/plain": [
       "array([0.17453293, 0.18254501, 0.1909249 , 0.19968947, 0.20885639,\n",
       "       0.21844413, 0.228472  , 0.2389602 , 0.24992988, 0.26140313,\n",
       "       0.27340307, 0.28595387, 0.29908084, 0.3128104 , 0.32717024,\n",
       "       0.34218927, 0.35789777, 0.37432738, 0.3915112 , 0.40948387,\n",
       "       0.42828158, 0.44794222, 0.4685054 , 0.49001255, 0.512507  ,\n",
       "       0.53603408, 0.5606412 , 0.58637792, 0.61329611, 0.64145   ,\n",
       "       0.67089632, 0.7016944 , 0.7339063 , 0.76759691, 0.80283411,\n",
       "       0.83968891, 0.87823557, 0.91855174, 0.96071866, 1.00482128,\n",
       "       1.05094848, 1.09919319, 1.14965261, 1.20242842, 1.25762694,\n",
       "       1.3153594 , 1.37574213, 1.43889677, 1.50495058, 1.57403665])"
      ]
     },
     "execution_count": 54,
     "metadata": {},
     "output_type": "execute_result"
    }
   ],
   "source": [
    "psi"
   ]
  },
  {
   "cell_type": "code",
   "execution_count": 55,
   "metadata": {},
   "outputs": [],
   "source": [
    "x = (L/2)*np.sin(psi)\n",
    "y = (L/2)*np.cos(psi)"
   ]
  },
  {
   "cell_type": "code",
   "execution_count": 56,
   "metadata": {},
   "outputs": [
    {
     "data": {
      "text/plain": [
       "Text(0, 0.5, 'y(m)')"
      ]
     },
     "execution_count": 56,
     "metadata": {},
     "output_type": "execute_result"
    },
    {
     "data": {
      "image/png": "[encoded data removed]",
      "text/plain": [
       "<Figure size 640x480 with 1 Axes>"
      ]
     },
     "metadata": {},
     "output_type": "display_data"
    }
   ],
   "source": [
    "plt.scatter(x,y)\n",
    "plt.xlabel(\"x(m)\")\n",
    "plt.ylabel(\"y(m)\")"
   ]
  },
  {
   "cell_type": "code",
   "execution_count": 57,
   "metadata": {},
   "outputs": [
    {
     "data": {
      "text/plain": [
       "array([ 0.49240388,  0.49169244,  0.49091457,  0.49006411,  0.48913434,\n",
       "        0.4881179 ,  0.4870068 ,  0.48579231,  0.48446488,  0.48301415,\n",
       "        0.48142881,  0.47969651,  0.47780386,  0.47573624,  0.47347776,\n",
       "        0.47101116,  0.46831766,  0.46537689,  0.46216673,  0.45866322,\n",
       "        0.45484038,  0.45067013,  0.44612209,  0.44116348,  0.43575895,\n",
       "        0.42987048,  0.42345717,  0.4164752 ,  0.40887767,  0.40061449,\n",
       "        0.39163237,  0.38187476,  0.37128187,  0.35979074,  0.34733542,\n",
       "        0.33384722,  0.31925503,  0.30348588,  0.28646556,  0.26811954,\n",
       "        0.24837404,  0.22715751,  0.20440225,  0.18004665,  0.15403771,\n",
       "        0.12633409,  0.09690985,  0.06575872,  0.03289909, -0.00162016])"
      ]
     },
     "execution_count": 57,
     "metadata": {},
     "output_type": "execute_result"
    }
   ],
   "source": [
    "y"
   ]
  },
  {
   "cell_type": "code",
   "execution_count": 58,
   "metadata": {},
   "outputs": [
    {
     "data": {
      "text/plain": [
       "array([10.        , 10.45905873, 10.93919094, 11.44136405, 11.96658985,\n",
       "       12.5159266 , 13.09048113, 13.69141109, 14.31992726, 14.97729601,\n",
       "       15.66484186, 16.38395009, 17.13606961, 17.92271584, 18.74547375,\n",
       "       19.60600108, 20.50603167, 21.44737894, 22.43193959, 23.46169735,\n",
       "       24.53872704, 25.66519871, 26.84338205, 28.07565093, 29.36448818,\n",
       "       30.71249063, 32.12237431, 33.59697994, 35.13927861, 36.75237786,\n",
       "       38.43952783, 40.2041279 , 42.04973347, 43.98006318, 45.99900635,\n",
       "       48.11063088, 50.31919136, 52.62913775, 55.04512424, 57.5720187 ,\n",
       "       60.21491245, 62.97913055, 65.87024249, 68.89407345, 72.056716  ,\n",
       "       75.36454242, 78.8242175 , 82.44271198, 86.22731661, 90.18565682])"
      ]
     },
     "execution_count": 58,
     "metadata": {},
     "output_type": "execute_result"
    }
   ],
   "source": [
    "psi*180/np.pi"
   ]
  },
  {
   "cell_type": "code",
   "execution_count": 59,
   "metadata": {},
   "outputs": [
    {
     "name": "stdout",
     "output_type": "stream",
     "text": [
      "Concluimos que la vara se toma un tiempo de 2.2 segundos en caer\n"
     ]
    }
   ],
   "source": [
    "print(\"Concluimos que la vara se toma un tiempo de 2.2 segundos en caer\")"
   ]
  }
 ],
 "metadata": {
  "kernelspec": {
   "display_name": "Python 3",
   "language": "python",
   "name": "python3"
  },
  "language_info": {
   "codemirror_mode": {
    "name": "ipython",
    "version": 3
   },
   "file_extension": ".py",
   "mimetype": "text/x-python",
   "name": "python",
   "nbconvert_exporter": "python",
   "pygments_lexer": "ipython3",
   "version": "3.10.11"
  }
 },
 "nbformat": 4,
 "nbformat_minor": 2
}
